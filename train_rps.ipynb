{
  "nbformat": 4,
  "nbformat_minor": 0,
  "metadata": {
    "colab": {
      "name": "Submision_AliMustofa.ipynb",
      "provenance": [],
      "collapsed_sections": []
    },
    "kernelspec": {
      "name": "python3",
      "display_name": "Python 3"
    },
    "accelerator": "GPU"
  },
  "cells": [
    {
      "cell_type": "markdown",
      "metadata": {
        "id": "9V-V-4d1G2-G"
      },
      "source": [
        "**Submission Machine Learning Pemula**\n",
        "\n",
        "\n",
        "---\n",
        "* Nama : Ali Mustofa \n",
        "* Email : hai.alimustofa@gmail.com\n",
        "* Asal : Ponorogo\n"
      ]
    },
    {
      "cell_type": "markdown",
      "metadata": {
        "id": "UaG77QW5HU_w"
      },
      "source": [
        "# Import library "
      ]
    },
    {
      "cell_type": "code",
      "metadata": {
        "id": "v2WD3tUKmfqn"
      },
      "source": [
        "import tensorflow as tf\n",
        "from tensorflow.keras.optimizers import RMSprop\n",
        "from tensorflow.keras.preprocessing.image import ImageDataGenerator\n",
        "from sklearn.model_selection import train_test_split\n",
        "import os"
      ],
      "execution_count": null,
      "outputs": []
    },
    {
      "cell_type": "markdown",
      "metadata": {
        "id": "5AHeCH9Ximmq"
      },
      "source": [
        "# Menyiapkan dataset rockpaperscissors"
      ]
    },
    {
      "cell_type": "markdown",
      "metadata": {
        "id": "Y92TJ7NAiqh7"
      },
      "source": [
        "Download dataset zip file\n"
      ]
    },
    {
      "cell_type": "code",
      "metadata": {
        "id": "tXqz8Dfki1ad",
        "outputId": "62318b27-8913-4cc1-b372-e247649d8bfa",
        "colab": {
          "base_uri": "https://localhost:8080/",
          "height": 224
        }
      },
      "source": [
        "!wget --no-check-certificate \\\n",
        "https://dicodingacademy.blob.core.windows.net/picodiploma/ml_pemula_academy/rockpaperscissors.zip \\\n",
        "  -O /tmp/rockpaperscissors.zip"
      ],
      "execution_count": null,
      "outputs": [
        {
          "output_type": "stream",
          "text": [
            "--2020-10-12 09:34:56--  https://dicodingacademy.blob.core.windows.net/picodiploma/ml_pemula_academy/rockpaperscissors.zip\n",
            "Resolving dicodingacademy.blob.core.windows.net (dicodingacademy.blob.core.windows.net)... 52.239.197.36\n",
            "Connecting to dicodingacademy.blob.core.windows.net (dicodingacademy.blob.core.windows.net)|52.239.197.36|:443... connected.\n",
            "HTTP request sent, awaiting response... 200 OK\n",
            "Length: 322873683 (308M) [application/zip]\n",
            "Saving to: ‘/tmp/rockpaperscissors.zip’\n",
            "\n",
            "/tmp/rockpapersciss 100%[===================>] 307.92M  2.88MB/s    in 52s     \n",
            "\n",
            "2020-10-12 09:35:49 (5.92 MB/s) - ‘/tmp/rockpaperscissors.zip’ saved [322873683/322873683]\n",
            "\n"
          ],
          "name": "stdout"
        }
      ]
    },
    {
      "cell_type": "markdown",
      "metadata": {
        "id": "lfGmyQcKjOOl"
      },
      "source": [
        "Extract file rockpaperscissors"
      ]
    },
    {
      "cell_type": "code",
      "metadata": {
        "id": "3G_vUMY8jYB_"
      },
      "source": [
        "import zipfile\n",
        "\n",
        "local_zip = '/tmp/rockpaperscissors.zip'\n",
        "zip_ref = zipfile.ZipFile(local_zip,'r')\n",
        "zip_ref.extractall('/tmp')\n",
        "zip_ref.close()"
      ],
      "execution_count": null,
      "outputs": []
    },
    {
      "cell_type": "code",
      "metadata": {
        "id": "XSm44BJ7jfu0",
        "outputId": "efb5828e-0e7c-4d4e-8be8-587adb4fffec",
        "colab": {
          "base_uri": "https://localhost:8080/",
          "height": 34
        }
      },
      "source": [
        "os.listdir('/tmp/rockpaperscissors')"
      ],
      "execution_count": null,
      "outputs": [
        {
          "output_type": "execute_result",
          "data": {
            "text/plain": [
              "['paper', 'README_rpc-cv-images.txt', 'scissors', 'rock', 'rps-cv-images']"
            ]
          },
          "metadata": {
            "tags": []
          },
          "execution_count": 4
        }
      ]
    },
    {
      "cell_type": "markdown",
      "metadata": {
        "id": "Rj5XhrKBj0AN"
      },
      "source": [
        "Membuat directory train dan validation"
      ]
    },
    {
      "cell_type": "code",
      "metadata": {
        "id": "xhE04OLvkFWW"
      },
      "source": [
        "rps_dir = '/tmp/rockpaperscissors'\n",
        "\n",
        "# train directory\n",
        "try:\n",
        "  rps_train_dir = os.path.join(rps_dir, 'train')\n",
        "  os.mkdir(rps_train_dir)\n",
        "except FileExistsError as error:\n",
        "  print(error)\n",
        "\n",
        "# validation directory\n",
        "try:\n",
        "  rps_val_dir = os.path.join(rps_dir, 'val')\n",
        "  os.mkdir(rps_val_dir)\n",
        "except FileExistsError as error:\n",
        "  print(error)"
      ],
      "execution_count": null,
      "outputs": []
    },
    {
      "cell_type": "markdown",
      "metadata": {
        "id": "S_V0aNNMlyHq"
      },
      "source": [
        "Initialize Directory Rock Paper dan Scissors"
      ]
    },
    {
      "cell_type": "code",
      "metadata": {
        "id": "Wl_ME44ZmA3M"
      },
      "source": [
        "rock_dir = os.path.join(rps_dir,'rock')\n",
        "paper_dir = os.path.join(rps_dir, 'paper')\n",
        "scissors_dir = os.path.join(rps_dir, 'scissors')"
      ],
      "execution_count": null,
      "outputs": []
    },
    {
      "cell_type": "markdown",
      "metadata": {
        "id": "59g_6BgpnJ8h"
      },
      "source": [
        "Membagi dataset train dan validation"
      ]
    },
    {
      "cell_type": "code",
      "metadata": {
        "id": "dZdLgNKPpkGS"
      },
      "source": [
        "# direktori rock\n",
        "train_rock_dir, val_rock_dir = train_test_split(os.listdir(rock_dir), test_size = 0.4)\n",
        "\n",
        "# direktori\n",
        "train_paper_dir, val_paper_dir = train_test_split(os.listdir(paper_dir), test_size = 0.4)\n",
        "\n",
        "# direktori scissors\n",
        "train_scissors_dir, val_scissors_dir = train_test_split(os.listdir(scissors_dir), test_size = 0.4)\n"
      ],
      "execution_count": null,
      "outputs": []
    },
    {
      "cell_type": "markdown",
      "metadata": {
        "id": "SUJEus2Hqd4E"
      },
      "source": [
        "## Membuat directory Rock, Paper dan Scissors di dalam directory train dan val\n",
        "\n",
        "\n",
        "\n"
      ]
    },
    {
      "cell_type": "markdown",
      "metadata": {
        "id": "5JHU3QGPwcXW"
      },
      "source": [
        "Rock train dan validation\n"
      ]
    },
    {
      "cell_type": "code",
      "metadata": {
        "id": "IU59ujhEqpzL"
      },
      "source": [
        "# Train Rock directory\n",
        "try:\n",
        "  train_rock = os.path.join(rps_train_dir, 'rock')\n",
        "  os.mkdir(train_rock)\n",
        "except FileExistsError as error:\n",
        "  print(error)\n",
        "\n",
        "# Validation Rock directory\n",
        "try:\n",
        "  val_rock = os.path.join(rps_val_dir, 'rock')\n",
        "  os.mkdir(val_rock)\n",
        "except FileExistsError as error:\n",
        "  print(error)"
      ],
      "execution_count": null,
      "outputs": []
    },
    {
      "cell_type": "markdown",
      "metadata": {
        "id": "qR1Li-S5wrnf"
      },
      "source": [
        "Paper train dan validation\n"
      ]
    },
    {
      "cell_type": "code",
      "metadata": {
        "id": "-XN4Rvbbwrni"
      },
      "source": [
        "# Train Paper directory\n",
        "try:\n",
        "  train_paper = os.path.join(rps_train_dir, 'paper')\n",
        "  os.mkdir(train_paper)\n",
        "except FileExistsError as error:\n",
        "  print(error)\n",
        "\n",
        "# Validation Paper directory\n",
        "try:\n",
        "  val_paper = os.path.join(rps_val_dir, 'paper')\n",
        "  os.mkdir(val_paper)\n",
        "except FileExistsError as error:\n",
        "  print(error)"
      ],
      "execution_count": null,
      "outputs": []
    },
    {
      "cell_type": "markdown",
      "metadata": {
        "id": "ekbAL_eDxEdG"
      },
      "source": [
        "Scissors train dan validation\n"
      ]
    },
    {
      "cell_type": "code",
      "metadata": {
        "id": "YJUhKBcbxMzu"
      },
      "source": [
        "# Train Scissors directory\n",
        "try:\n",
        "  train_scissors = os.path.join(rps_train_dir, 'scissors')\n",
        "  os.mkdir(train_scissors)\n",
        "except FileExistsError as error:\n",
        "  print(error)\n",
        "\n",
        "# Validation Scissors directory\n",
        "try:\n",
        "  val_scissors = os.path.join(rps_val_dir, 'scissors')\n",
        "  os.mkdir(val_scissors)\n",
        "except FileExistsError as error:\n",
        "  print(error)"
      ],
      "execution_count": null,
      "outputs": []
    },
    {
      "cell_type": "markdown",
      "metadata": {
        "id": "u8TBcP2rzVMM"
      },
      "source": [
        "## Copy datasets ke directory train dan val"
      ]
    },
    {
      "cell_type": "code",
      "metadata": {
        "id": "Q9y1NlQyyBgS"
      },
      "source": [
        "from shutil import copy"
      ],
      "execution_count": null,
      "outputs": []
    },
    {
      "cell_type": "markdown",
      "metadata": {
        "id": "Z1eqOSafzvQc"
      },
      "source": [
        "Copy dataset Rock ke directory train validation"
      ]
    },
    {
      "cell_type": "code",
      "metadata": {
        "id": "D3BXZicWz58F",
        "outputId": "0af7199f-88e5-4f3e-ce17-adc3daf095f2",
        "colab": {
          "base_uri": "https://localhost:8080/",
          "height": 51
        }
      },
      "source": [
        "for img_name in train_rock_dir:\n",
        "  copy(os.path.join(rock_dir, img_name), os.path.join(train_rock, img_name))\n",
        "\n",
        "for img_name in val_rock_dir:\n",
        "  copy(os.path.join(rock_dir, img_name), os.path.join(val_rock, img_name))\n",
        "\n",
        "print('Jumlah gambar train rock :', len(os.listdir('/tmp/rockpaperscissors/train/rock')))\n",
        "print('Jumlah gambar validation rock :', len(os.listdir('/tmp/rockpaperscissors/val/rock')))"
      ],
      "execution_count": null,
      "outputs": [
        {
          "output_type": "stream",
          "text": [
            "Jumlah gambar train rock : 435\n",
            "Jumlah gambar validation rock : 291\n"
          ],
          "name": "stdout"
        }
      ]
    },
    {
      "cell_type": "markdown",
      "metadata": {
        "id": "bKUIvzsr3446"
      },
      "source": [
        "Copy dataset Paper ke directory train validation\n",
        "\n"
      ]
    },
    {
      "cell_type": "code",
      "metadata": {
        "id": "iCCT3v7G3Nmq",
        "outputId": "f08835cd-4f70-4aa4-b88c-8986def0a12a",
        "colab": {
          "base_uri": "https://localhost:8080/",
          "height": 51
        }
      },
      "source": [
        "for img_name in train_paper_dir:\n",
        "  copy(os.path.join(paper_dir, img_name), os.path.join(train_paper, img_name))\n",
        "\n",
        "for img_name in val_paper_dir:\n",
        "  copy(os.path.join(paper_dir, img_name), os.path.join(val_paper, img_name))\n",
        "\n",
        "print('Jumlah gambar train paper :', len(os.listdir('/tmp/rockpaperscissors/train/paper')))\n",
        "print('Jumlah gambar validation paper :', len(os.listdir('/tmp/rockpaperscissors/val/paper')))"
      ],
      "execution_count": null,
      "outputs": [
        {
          "output_type": "stream",
          "text": [
            "Jumlah gambar train paper : 427\n",
            "Jumlah gambar validation paper : 285\n"
          ],
          "name": "stdout"
        }
      ]
    },
    {
      "cell_type": "markdown",
      "metadata": {
        "id": "7Jp0hPK34oug"
      },
      "source": [
        "Copy dataset Scissors ke directory train validation"
      ]
    },
    {
      "cell_type": "code",
      "metadata": {
        "id": "x8mVy_6541aW",
        "outputId": "882a09b4-1727-4b43-bd97-d69c01c98d03",
        "colab": {
          "base_uri": "https://localhost:8080/",
          "height": 51
        }
      },
      "source": [
        "for img_name in train_scissors_dir:\n",
        "  copy(os.path.join(scissors_dir, img_name), os.path.join(train_scissors, img_name))\n",
        "\n",
        "for img_name in val_scissors_dir:\n",
        "  copy(os.path.join(scissors_dir, img_name), os.path.join(val_scissors, img_name))\n",
        "\n",
        "print('Jumlah gambar train scissors :', len(os.listdir('/tmp/rockpaperscissors/train/scissors')))\n",
        "print('Jumlah gambar validation scissors :', len(os.listdir('/tmp/rockpaperscissors/val/scissors')))"
      ],
      "execution_count": null,
      "outputs": [
        {
          "output_type": "stream",
          "text": [
            "Jumlah gambar train scissors : 450\n",
            "Jumlah gambar validation scissors : 300\n"
          ],
          "name": "stdout"
        }
      ]
    },
    {
      "cell_type": "markdown",
      "metadata": {
        "id": "wniaK_a954Pp"
      },
      "source": [
        "# Training dataset"
      ]
    },
    {
      "cell_type": "markdown",
      "metadata": {
        "id": "eCwepNR26DOh"
      },
      "source": [
        "Image data generator"
      ]
    },
    {
      "cell_type": "code",
      "metadata": {
        "id": "qiZbR2a_597s"
      },
      "source": [
        "train_datagen = ImageDataGenerator(\n",
        "                    rescale=1./255,\n",
        "                    rotation_range=20,\n",
        "                    horizontal_flip=True,\n",
        "                    shear_range = 0.2,\n",
        "                    fill_mode = 'nearest')\n",
        "\n",
        "test_datagen = ImageDataGenerator(\n",
        "                    rescale=1./255,\n",
        "                    rotation_range=20,\n",
        "                    horizontal_flip=True,\n",
        "                    shear_range = 0.2,\n",
        "                    fill_mode = 'nearest')"
      ],
      "execution_count": null,
      "outputs": []
    },
    {
      "cell_type": "markdown",
      "metadata": {
        "id": "5ZDf6stZ6UW0"
      },
      "source": [
        "Train dan Validation Datagen"
      ]
    },
    {
      "cell_type": "code",
      "metadata": {
        "id": "h8oXNHXP6b9m",
        "outputId": "b07a8e71-5252-4184-9e3e-44ff050db8fe",
        "colab": {
          "base_uri": "https://localhost:8080/",
          "height": 51
        }
      },
      "source": [
        "train_generator = train_datagen.flow_from_directory(\n",
        "    rps_train_dir,\n",
        "    target_size =(150,150),\n",
        "    batch_size = 32,\n",
        "    class_mode = 'categorical'\n",
        ")\n",
        "\n",
        "validation_generator = test_datagen.flow_from_directory(\n",
        "    rps_val_dir,\n",
        "    target_size = (150,150),\n",
        "    batch_size = 32,\n",
        "    class_mode = 'categorical'\n",
        ")"
      ],
      "execution_count": null,
      "outputs": [
        {
          "output_type": "stream",
          "text": [
            "Found 1312 images belonging to 3 classes.\n",
            "Found 876 images belonging to 3 classes.\n"
          ],
          "name": "stdout"
        }
      ]
    },
    {
      "cell_type": "markdown",
      "metadata": {
        "id": "ysyRqyTpbQKw"
      },
      "source": [
        "model sequential"
      ]
    },
    {
      "cell_type": "code",
      "metadata": {
        "id": "a8_khemu7YAf"
      },
      "source": [
        "model = tf.keras.models.Sequential([\n",
        "  tf.keras.layers.Conv2D(32, (3,3), activation = 'relu', input_shape= (150,150,3)),\n",
        "  tf.keras.layers.MaxPooling2D(2,2),\n",
        "  tf.keras.layers.Conv2D(64,(3,3), activation= 'relu'),\n",
        "  tf.keras.layers.MaxPooling2D(2,2),\n",
        "  tf.keras.layers.Conv2D(128,(3,3), activation= 'relu'),\n",
        "  tf.keras.layers.MaxPooling2D(2,2),\n",
        "  tf.keras.layers.Conv2D(256,(3,3), activation= 'relu'),\n",
        "  tf.keras.layers.MaxPooling2D(2,2),\n",
        "  tf.keras.layers.Flatten(),\n",
        "  tf.keras.layers.Dense(512, activation= 'relu'),\n",
        "  tf.keras.layers.Dense(3, activation= 'softmax')\n",
        "])"
      ],
      "execution_count": null,
      "outputs": []
    },
    {
      "cell_type": "code",
      "metadata": {
        "id": "HMchDkBB7lRh"
      },
      "source": [
        "model.compile(\n",
        "    loss = 'categorical_crossentropy',\n",
        "    optimizer = tf.optimizers.Adam(),\n",
        "    metrics=['accuracy'] )"
      ],
      "execution_count": null,
      "outputs": []
    },
    {
      "cell_type": "code",
      "metadata": {
        "id": "Ko_wVRX08HJk",
        "outputId": "a2f0c1d6-ce0c-4e85-d12e-b3bc8efe0e22",
        "colab": {
          "base_uri": "https://localhost:8080/",
          "height": 697
        }
      },
      "source": [
        "history = model.fit(\n",
        "      train_generator,\n",
        "      steps_per_epoch=30,\n",
        "      epochs=20,\n",
        "      validation_data=validation_generator,\n",
        "      validation_steps=5,\n",
        "      verbose=2)"
      ],
      "execution_count": null,
      "outputs": [
        {
          "output_type": "stream",
          "text": [
            "Epoch 1/20\n",
            "30/30 - 9s - loss: 1.1291 - accuracy: 0.3604 - val_loss: 1.0738 - val_accuracy: 0.4437\n",
            "Epoch 2/20\n",
            "30/30 - 9s - loss: 0.8995 - accuracy: 0.5844 - val_loss: 0.5689 - val_accuracy: 0.7563\n",
            "Epoch 3/20\n",
            "30/30 - 9s - loss: 0.4416 - accuracy: 0.8469 - val_loss: 0.3188 - val_accuracy: 0.8938\n",
            "Epoch 4/20\n",
            "30/30 - 9s - loss: 0.2565 - accuracy: 0.9208 - val_loss: 0.2032 - val_accuracy: 0.9375\n",
            "Epoch 5/20\n",
            "30/30 - 9s - loss: 0.2089 - accuracy: 0.9292 - val_loss: 0.1797 - val_accuracy: 0.9312\n",
            "Epoch 6/20\n",
            "30/30 - 9s - loss: 0.1696 - accuracy: 0.9490 - val_loss: 0.1925 - val_accuracy: 0.9187\n",
            "Epoch 7/20\n",
            "30/30 - 9s - loss: 0.1958 - accuracy: 0.9427 - val_loss: 0.1916 - val_accuracy: 0.9375\n",
            "Epoch 8/20\n",
            "30/30 - 9s - loss: 0.1267 - accuracy: 0.9656 - val_loss: 0.1555 - val_accuracy: 0.9438\n",
            "Epoch 9/20\n",
            "30/30 - 9s - loss: 0.1196 - accuracy: 0.9667 - val_loss: 0.1424 - val_accuracy: 0.9375\n",
            "Epoch 10/20\n",
            "30/30 - 9s - loss: 0.1503 - accuracy: 0.9521 - val_loss: 0.2099 - val_accuracy: 0.9312\n",
            "Epoch 11/20\n",
            "30/30 - 9s - loss: 0.1091 - accuracy: 0.9604 - val_loss: 0.1945 - val_accuracy: 0.9312\n",
            "Epoch 12/20\n",
            "30/30 - 9s - loss: 0.1032 - accuracy: 0.9625 - val_loss: 0.1317 - val_accuracy: 0.9625\n",
            "Epoch 13/20\n",
            "30/30 - 9s - loss: 0.1044 - accuracy: 0.9635 - val_loss: 0.1102 - val_accuracy: 0.9500\n",
            "Epoch 14/20\n",
            "30/30 - 9s - loss: 0.0841 - accuracy: 0.9760 - val_loss: 0.1080 - val_accuracy: 0.9625\n",
            "Epoch 15/20\n",
            "30/30 - 9s - loss: 0.0862 - accuracy: 0.9719 - val_loss: 0.1265 - val_accuracy: 0.9812\n",
            "Epoch 16/20\n",
            "30/30 - 9s - loss: 0.0862 - accuracy: 0.9781 - val_loss: 0.0540 - val_accuracy: 0.9750\n",
            "Epoch 17/20\n",
            "30/30 - 9s - loss: 0.0519 - accuracy: 0.9854 - val_loss: 0.0643 - val_accuracy: 0.9750\n",
            "Epoch 18/20\n",
            "30/30 - 9s - loss: 0.0608 - accuracy: 0.9802 - val_loss: 0.0964 - val_accuracy: 0.9875\n",
            "Epoch 19/20\n",
            "30/30 - 9s - loss: 0.0611 - accuracy: 0.9792 - val_loss: 0.1277 - val_accuracy: 0.9750\n",
            "Epoch 20/20\n",
            "30/30 - 9s - loss: 0.0471 - accuracy: 0.9917 - val_loss: 0.0440 - val_accuracy: 0.9875\n"
          ],
          "name": "stdout"
        }
      ]
    },
    {
      "cell_type": "markdown",
      "metadata": {
        "id": "QBCUlgub0hKE"
      },
      "source": [
        "Menampilkan diagram history\n"
      ]
    },
    {
      "cell_type": "code",
      "metadata": {
        "id": "7Avr1v_P0gfu",
        "outputId": "e3e30346-e572-4200-b11b-1f3758e9b740",
        "colab": {
          "base_uri": "https://localhost:8080/",
          "height": 442
        }
      },
      "source": [
        "import matplotlib.pyplot as plt\n",
        "\n",
        "# initialize loss, accuracy, val_loss, val_accuracy\n",
        "training_loss = history.history['loss']\n",
        "training_acc = history.history['accuracy']\n",
        "validation_loss = history.history['val_loss']\n",
        "validation_acc = history.history['val_accuracy']\n",
        "\n",
        "#  Rata-rata \n",
        "avg_training_acc = round((sum(training_acc) / len(training_acc)), 2)\n",
        "avg_training_loss = round((sum(training_loss) / len(training_loss)), 2)\n",
        "avg_validation_acc = round((sum(validation_acc) / len(validation_acc)), 2)\n",
        "avg_validation_loss = round((sum(validation_loss) / len(validation_loss)), 2)\n",
        "\n",
        "print(' AVG training accuracy : {0} \\n AVG training loss : {1}'\n",
        "  .format(avg_training_acc, avg_training_loss))\n",
        "print(' AVG validation accuracy : {0} \\n AVG validation loss : {1}'\n",
        "  .format(avg_validation_acc, avg_validation_loss))\n",
        "\n",
        "# Jumlah epoch\n",
        "epoch_count = range(1, len(training_loss) + 1)\n",
        "\n",
        "# Visualisasi data\n",
        "plt.figure(figsize=(10, 12))\n",
        "plt.subplot(2, 2, 1)\n",
        "plt.plot(epoch_count, training_loss, 'r--')\n",
        "plt.plot(epoch_count, validation_loss, 'b-')\n",
        "plt.legend(['Training Loss', 'Validation Loss'])\n",
        "plt.xlabel('Epoch')\n",
        "plt.ylabel('Loss')\n",
        "plt.title('Training and Validation Loss')\n",
        "\n",
        "plt.subplot(2, 2, 2)\n",
        "plt.plot(epoch_count, training_acc, 'r--')\n",
        "plt.plot(epoch_count, validation_acc, 'b-')\n",
        "plt.legend(['Training Accuracy', 'Validation  Accuracy'])\n",
        "plt.xlabel('Epoch')\n",
        "plt.ylabel('Loss')\n",
        "plt.title('Training and Validation Accuracy')\n",
        "plt.show();"
      ],
      "execution_count": null,
      "outputs": [
        {
          "output_type": "stream",
          "text": [
            " AVG training accuracy : 0.91 \n",
            " AVG training loss : 0.22\n",
            " AVG validation accuracy : 0.92 \n",
            " AVG validation loss : 0.21\n"
          ],
          "name": "stdout"
        },
        {
          "output_type": "display_data",
          "data": {
            "image/png": "[encoded data removed]",
            "text/plain": [
              "<Figure size 720x864 with 2 Axes>"
            ]
          },
          "metadata": {
            "tags": [],
            "needs_background": "light"
          }
        }
      ]
    },
    {
      "cell_type": "markdown",
      "metadata": {
        "id": "2UmUrH2mC9QQ"
      },
      "source": [
        "Save model"
      ]
    },
    {
      "cell_type": "code",
      "metadata": {
        "id": "UrzGQKrYC_Ki"
      },
      "source": [
        "model_name = 'rock_paper_scissors_cnn.h5'\n",
        "model.save(model_name, save_format='h5')"
      ],
      "execution_count": null,
      "outputs": []
    },
    {
      "cell_type": "markdown",
      "metadata": {
        "id": "0bgJPxkp6-u3"
      },
      "source": [
        "# Prediksi gambar berdasarkan hasil training"
      ]
    },
    {
      "cell_type": "code",
      "metadata": {
        "id": "6rUslzDm7Izt"
      },
      "source": [
        "!mkdir uploads"
      ],
      "execution_count": null,
      "outputs": []
    },
    {
      "cell_type": "code",
      "metadata": {
        "id": "Puqb2jNq7T1f"
      },
      "source": [
        "from google.colab import files\n",
        "from keras.preprocessing import image\n",
        "import matplotlib.pyplot as plt\n",
        "import numpy as np\n",
        "\n",
        "# Definisikan label\n",
        "labels = ['paper', 'rock', 'scissors']"
      ],
      "execution_count": null,
      "outputs": []
    },
    {
      "cell_type": "code",
      "metadata": {
        "id": "cCogTlgy7mV7",
        "outputId": "a4850687-c80f-45ca-d325-39871a184738",
        "colab": {
          "resources": {
            "http://localhost:8080/nbextensions/google.colab/files.js": {
              "data": "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",
              "ok": true,
              "headers": [
                [
                  "content-type",
                  "application/javascript"
                ]
              ],
              "status": 200,
              "status_text": ""
            }
          },
          "base_uri": "https://localhost:8080/",
          "height": 375
        }
      },
      "source": [
        "uploaded = files.upload()\n",
        "uploaded_files = list(uploaded.keys())\n",
        "\n",
        "\n",
        "for uploaded_file in uploaded_files:\n",
        "  !mv $uploaded_file uploads/$uploaded_file\n",
        "\n",
        "  path_images = '/content/uploads/'\n",
        "  print(path_images+uploaded_file)\n",
        "  images = image.load_img(path_images+uploaded_file, target_size =(150,150))\n",
        "  imgplot = plt.imshow(images)\n",
        "  x = image.img_to_array(images)\n",
        "  x = np.expand_dims(x, axis=0)\n",
        "\n",
        "  images = np.vstack([x])\n",
        "  classes = model.predict(images, batch_size=10)\n",
        "\n",
        "  print('Image Name : ', uploaded_file)\n",
        "  print('Prediction : ', labels[np.argmax(classes)])"
      ],
      "execution_count": null,
      "outputs": [
        {
          "output_type": "display_data",
          "data": {
            "text/html": [
              "\n",
              "     <input type=\"file\" id=\"files-09525210-aa6b-4fec-b6cd-577176fe9f74\" name=\"files[]\" multiple disabled\n",
              "        style=\"border:none\" />\n",
              "     <output id=\"result-09525210-aa6b-4fec-b6cd-577176fe9f74\">\n",
              "      Upload widget is only available when the cell has been executed in the\n",
              "      current browser session. Please rerun this cell to enable.\n",
              "      </output>\n",
              "      <script src=\"/nbextensions/google.colab/files.js\"></script> "
            ],
            "text/plain": [
              "<IPython.core.display.HTML object>"
            ]
          },
          "metadata": {
            "tags": []
          }
        },
        {
          "output_type": "stream",
          "text": [
            "Saving BmVM7T7MvIkewekj.png to BmVM7T7MvIkewekj.png\n",
            "/content/uploads/BmVM7T7MvIkewekj.png\n",
            "Image Name :  BmVM7T7MvIkewekj.png\n",
            "Prediction :  scissors\n"
          ],
          "name": "stdout"
        },
        {
          "output_type": "display_data",
          "data": {
            "image/png": "[encoded data removed]",
            "text/plain": [
              "<Figure size 432x288 with 1 Axes>"
            ]
          },
          "metadata": {
            "tags": [],
            "needs_background": "light"
          }
        }
      ]
    }
  ]
}